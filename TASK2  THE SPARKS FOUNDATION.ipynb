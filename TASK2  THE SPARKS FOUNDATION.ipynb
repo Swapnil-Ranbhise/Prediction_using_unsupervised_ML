{
 "cells": [
  {
   "cell_type": "markdown",
   "id": "ed3084ed",
   "metadata": {},
   "source": [
    "# Prediction using Unsupervised ML.\n",
    "\n",
    "From the given 'iris' dataset, predict the optimum number of clusters and represent it visually."
   ]
  },
  {
   "cell_type": "markdown",
   "id": "0030b517",
   "metadata": {},
   "source": [
    "# language\n",
    "Python"
   ]
  },
  {
   "cell_type": "markdown",
   "id": "74704605",
   "metadata": {},
   "source": [
    "# Author\n",
    "Swapnil Ranbhise"
   ]
  },
  {
   "cell_type": "code",
   "execution_count": 1,
   "id": "b3cdb878",
   "metadata": {},
   "outputs": [],
   "source": [
    "from sklearn.cluster import KMeans\n",
    "import pandas as pd\n",
    "from sklearn.preprocessing import MinMaxScaler\n",
    "import warnings\n",
    "warnings.filterwarnings('ignore')\n",
    "import matplotlib.pyplot as plt\n",
    "%matplotlib inline"
   ]
  },
  {
   "cell_type": "code",
   "execution_count": 2,
   "id": "4c25503a",
   "metadata": {},
   "outputs": [
    {
     "data": {
      "text/html": [
       "<div>\n",
       "<style scoped>\n",
       "    .dataframe tbody tr th:only-of-type {\n",
       "        vertical-align: middle;\n",
       "    }\n",
       "\n",
       "    .dataframe tbody tr th {\n",
       "        vertical-align: top;\n",
       "    }\n",
       "\n",
       "    .dataframe thead th {\n",
       "        text-align: right;\n",
       "    }\n",
       "</style>\n",
       "<table border=\"1\" class=\"dataframe\">\n",
       "  <thead>\n",
       "    <tr style=\"text-align: right;\">\n",
       "      <th></th>\n",
       "      <th>Id</th>\n",
       "      <th>SepalLengthCm</th>\n",
       "      <th>SepalWidthCm</th>\n",
       "      <th>PetalLengthCm</th>\n",
       "      <th>PetalWidthCm</th>\n",
       "      <th>Species</th>\n",
       "    </tr>\n",
       "  </thead>\n",
       "  <tbody>\n",
       "    <tr>\n",
       "      <th>0</th>\n",
       "      <td>1</td>\n",
       "      <td>5.1</td>\n",
       "      <td>3.5</td>\n",
       "      <td>1.4</td>\n",
       "      <td>0.2</td>\n",
       "      <td>Iris-setosa</td>\n",
       "    </tr>\n",
       "    <tr>\n",
       "      <th>1</th>\n",
       "      <td>2</td>\n",
       "      <td>4.9</td>\n",
       "      <td>3.0</td>\n",
       "      <td>1.4</td>\n",
       "      <td>0.2</td>\n",
       "      <td>Iris-setosa</td>\n",
       "    </tr>\n",
       "    <tr>\n",
       "      <th>2</th>\n",
       "      <td>3</td>\n",
       "      <td>4.7</td>\n",
       "      <td>3.2</td>\n",
       "      <td>1.3</td>\n",
       "      <td>0.2</td>\n",
       "      <td>Iris-setosa</td>\n",
       "    </tr>\n",
       "    <tr>\n",
       "      <th>3</th>\n",
       "      <td>4</td>\n",
       "      <td>4.6</td>\n",
       "      <td>3.1</td>\n",
       "      <td>1.5</td>\n",
       "      <td>0.2</td>\n",
       "      <td>Iris-setosa</td>\n",
       "    </tr>\n",
       "    <tr>\n",
       "      <th>4</th>\n",
       "      <td>5</td>\n",
       "      <td>5.0</td>\n",
       "      <td>3.6</td>\n",
       "      <td>1.4</td>\n",
       "      <td>0.2</td>\n",
       "      <td>Iris-setosa</td>\n",
       "    </tr>\n",
       "  </tbody>\n",
       "</table>\n",
       "</div>"
      ],
      "text/plain": [
       "   Id  SepalLengthCm  SepalWidthCm  PetalLengthCm  PetalWidthCm      Species\n",
       "0   1            5.1           3.5            1.4           0.2  Iris-setosa\n",
       "1   2            4.9           3.0            1.4           0.2  Iris-setosa\n",
       "2   3            4.7           3.2            1.3           0.2  Iris-setosa\n",
       "3   4            4.6           3.1            1.5           0.2  Iris-setosa\n",
       "4   5            5.0           3.6            1.4           0.2  Iris-setosa"
      ]
     },
     "execution_count": 2,
     "metadata": {},
     "output_type": "execute_result"
    }
   ],
   "source": [
    "df = pd.read_csv(\"Iris.csv\")\n",
    "df.head()"
   ]
  },
  {
   "cell_type": "code",
   "execution_count": 3,
   "id": "184c482c",
   "metadata": {},
   "outputs": [
    {
     "data": {
      "image/png": "[encoded data removed]",
      "text/plain": [
       "<Figure size 432x288 with 1 Axes>"
      ]
     },
     "metadata": {
      "needs_background": "light"
     },
     "output_type": "display_data"
    }
   ],
   "source": [
    "# findin the optimum number of cluster for kmeans classification\n",
    "x = df.iloc[:,[0,1,2,3]].values\n",
    "\n",
    "wcss = []\n",
    "for i in range(1, 11):\n",
    "    kmeans = KMeans(n_clusters=i, init=\"k-means++\",\n",
    "                   max_iter=300, n_init=10, random_state=0)\n",
    "    kmeans.fit(x)\n",
    "    wcss.append(kmeans.inertia_)\n",
    "    \n",
    "plt.plot(range(1, 11), wcss)\n",
    "plt.title(\"Elbow method\")\n",
    "plt.xlabel(\"Number of cluster\")\n",
    "plt.ylabel(\"WCSS\")\n",
    "plt.show()"
   ]
  },
  {
   "cell_type": "code",
   "execution_count": 4,
   "id": "16e161ff",
   "metadata": {},
   "outputs": [
    {
     "data": {
      "text/plain": [
       "array([1, 1, 1, 1, 1, 1, 1, 1, 1, 1, 1, 1, 1, 1, 1, 1, 1, 1, 1, 1, 1, 1,\n",
       "       1, 1, 1, 1, 1, 1, 1, 1, 1, 1, 1, 1, 1, 1, 1, 1, 1, 1, 1, 1, 1, 1,\n",
       "       1, 1, 1, 1, 1, 1, 2, 2, 2, 2, 2, 2, 2, 2, 2, 2, 2, 2, 2, 2, 2, 2,\n",
       "       2, 2, 2, 2, 2, 2, 2, 2, 2, 2, 2, 2, 2, 2, 2, 2, 2, 2, 2, 2, 2, 2,\n",
       "       2, 2, 2, 2, 2, 2, 2, 2, 2, 2, 2, 2, 0, 0, 0, 0, 0, 0, 0, 0, 0, 0,\n",
       "       0, 0, 0, 0, 0, 0, 0, 0, 0, 0, 0, 0, 0, 0, 0, 0, 0, 0, 0, 0, 0, 0,\n",
       "       0, 0, 0, 0, 0, 0, 0, 0, 0, 0, 0, 0, 0, 0, 0, 0, 0, 0])"
      ]
     },
     "execution_count": 4,
     "metadata": {},
     "output_type": "execute_result"
    }
   ],
   "source": [
    "km = KMeans(n_clusters=3)\n",
    "y_predicted = km.fit_predict(x)\n",
    "y_predicted"
   ]
  },
  {
   "cell_type": "code",
   "execution_count": 5,
   "id": "9be713f9",
   "metadata": {},
   "outputs": [
    {
     "data": {
      "text/plain": [
       "array([[125.5  ,   6.588,   2.974,   5.552],\n",
       "       [ 25.5  ,   5.006,   3.418,   1.464],\n",
       "       [ 75.5  ,   5.936,   2.77 ,   4.26 ]])"
      ]
     },
     "execution_count": 5,
     "metadata": {},
     "output_type": "execute_result"
    }
   ],
   "source": [
    "km.cluster_centers_"
   ]
  },
  {
   "cell_type": "code",
   "execution_count": 6,
   "id": "abdcf54e",
   "metadata": {},
   "outputs": [
    {
     "data": {
      "text/plain": [
       "<matplotlib.legend.Legend at 0x1980b0b9640>"
      ]
     },
     "execution_count": 6,
     "metadata": {},
     "output_type": "execute_result"
    },
    {
     "data": {
      "image/png": "[encoded data removed]",
      "text/plain": [
       "<Figure size 432x288 with 1 Axes>"
      ]
     },
     "metadata": {
      "needs_background": "light"
     },
     "output_type": "display_data"
    }
   ],
   "source": [
    "plt.scatter(x[y_predicted == 0, 0], x[y_predicted == 0, 1], \n",
    "            s = 100, c = 'red', label = 'Iris-setosa')\n",
    "plt.scatter(x[y_predicted == 1, 0], x[y_predicted == 1, 1], \n",
    "            s = 100, c = 'yellow', label = 'Iris-versicolour')\n",
    "plt.scatter(x[y_predicted == 2, 0], x[y_predicted == 2, 1],\n",
    "            s = 100, c = 'green', label = 'Iris-virginica')\n",
    "plt.scatter(km.cluster_centers_[:,0],km.cluster_centers_[:,1],color='purple',label='centroid')\n",
    "plt.legend()"
   ]
  },
  {
   "cell_type": "code",
   "execution_count": 7,
   "id": "b704e4ac",
   "metadata": {},
   "outputs": [],
   "source": [
    "scaler = MinMaxScaler()\n",
    "\n",
    "scaler.fit(x)\n",
    "x = scaler.transform(x)"
   ]
  },
  {
   "cell_type": "code",
   "execution_count": 8,
   "id": "d2d25abc",
   "metadata": {},
   "outputs": [
    {
     "data": {
      "text/plain": [
       "array([[0.        , 0.22222222, 0.625     , 0.06779661],\n",
       "       [0.00671141, 0.16666667, 0.41666667, 0.06779661],\n",
       "       [0.01342282, 0.11111111, 0.5       , 0.05084746],\n",
       "       [0.02013423, 0.08333333, 0.45833333, 0.08474576],\n",
       "       [0.02684564, 0.19444444, 0.66666667, 0.06779661],\n",
       "       [0.03355705, 0.30555556, 0.79166667, 0.11864407],\n",
       "       [0.04026846, 0.08333333, 0.58333333, 0.06779661],\n",
       "       [0.04697987, 0.19444444, 0.58333333, 0.08474576],\n",
       "       [0.05369128, 0.02777778, 0.375     , 0.06779661],\n",
       "       [0.06040268, 0.16666667, 0.45833333, 0.08474576],\n",
       "       [0.06711409, 0.30555556, 0.70833333, 0.08474576],\n",
       "       [0.0738255 , 0.13888889, 0.58333333, 0.10169492],\n",
       "       [0.08053691, 0.13888889, 0.41666667, 0.06779661],\n",
       "       [0.08724832, 0.        , 0.41666667, 0.01694915],\n",
       "       [0.09395973, 0.41666667, 0.83333333, 0.03389831],\n",
       "       [0.10067114, 0.38888889, 1.        , 0.08474576],\n",
       "       [0.10738255, 0.30555556, 0.79166667, 0.05084746],\n",
       "       [0.11409396, 0.22222222, 0.625     , 0.06779661],\n",
       "       [0.12080537, 0.38888889, 0.75      , 0.11864407],\n",
       "       [0.12751678, 0.22222222, 0.75      , 0.08474576],\n",
       "       [0.13422819, 0.30555556, 0.58333333, 0.11864407],\n",
       "       [0.1409396 , 0.22222222, 0.70833333, 0.08474576],\n",
       "       [0.14765101, 0.08333333, 0.66666667, 0.        ],\n",
       "       [0.15436242, 0.22222222, 0.54166667, 0.11864407],\n",
       "       [0.16107383, 0.13888889, 0.58333333, 0.15254237],\n",
       "       [0.16778523, 0.19444444, 0.41666667, 0.10169492],\n",
       "       [0.17449664, 0.19444444, 0.58333333, 0.10169492],\n",
       "       [0.18120805, 0.25      , 0.625     , 0.08474576],\n",
       "       [0.18791946, 0.25      , 0.58333333, 0.06779661],\n",
       "       [0.19463087, 0.11111111, 0.5       , 0.10169492],\n",
       "       [0.20134228, 0.13888889, 0.45833333, 0.10169492],\n",
       "       [0.20805369, 0.30555556, 0.58333333, 0.08474576],\n",
       "       [0.2147651 , 0.25      , 0.875     , 0.08474576],\n",
       "       [0.22147651, 0.33333333, 0.91666667, 0.06779661],\n",
       "       [0.22818792, 0.16666667, 0.45833333, 0.08474576],\n",
       "       [0.23489933, 0.19444444, 0.5       , 0.03389831],\n",
       "       [0.24161074, 0.33333333, 0.625     , 0.05084746],\n",
       "       [0.24832215, 0.16666667, 0.45833333, 0.08474576],\n",
       "       [0.25503356, 0.02777778, 0.41666667, 0.05084746],\n",
       "       [0.26174497, 0.22222222, 0.58333333, 0.08474576],\n",
       "       [0.26845638, 0.19444444, 0.625     , 0.05084746],\n",
       "       [0.27516779, 0.05555556, 0.125     , 0.05084746],\n",
       "       [0.28187919, 0.02777778, 0.5       , 0.05084746],\n",
       "       [0.2885906 , 0.19444444, 0.625     , 0.10169492],\n",
       "       [0.29530201, 0.22222222, 0.75      , 0.15254237],\n",
       "       [0.30201342, 0.13888889, 0.41666667, 0.06779661],\n",
       "       [0.30872483, 0.22222222, 0.75      , 0.10169492],\n",
       "       [0.31543624, 0.08333333, 0.5       , 0.06779661],\n",
       "       [0.32214765, 0.27777778, 0.70833333, 0.08474576],\n",
       "       [0.32885906, 0.19444444, 0.54166667, 0.06779661],\n",
       "       [0.33557047, 0.75      , 0.5       , 0.62711864],\n",
       "       [0.34228188, 0.58333333, 0.5       , 0.59322034],\n",
       "       [0.34899329, 0.72222222, 0.45833333, 0.66101695],\n",
       "       [0.3557047 , 0.33333333, 0.125     , 0.50847458],\n",
       "       [0.36241611, 0.61111111, 0.33333333, 0.61016949],\n",
       "       [0.36912752, 0.38888889, 0.33333333, 0.59322034],\n",
       "       [0.37583893, 0.55555556, 0.54166667, 0.62711864],\n",
       "       [0.38255034, 0.16666667, 0.16666667, 0.38983051],\n",
       "       [0.38926174, 0.63888889, 0.375     , 0.61016949],\n",
       "       [0.39597315, 0.25      , 0.29166667, 0.49152542],\n",
       "       [0.40268456, 0.19444444, 0.        , 0.42372881],\n",
       "       [0.40939597, 0.44444444, 0.41666667, 0.54237288],\n",
       "       [0.41610738, 0.47222222, 0.08333333, 0.50847458],\n",
       "       [0.42281879, 0.5       , 0.375     , 0.62711864],\n",
       "       [0.4295302 , 0.36111111, 0.375     , 0.44067797],\n",
       "       [0.43624161, 0.66666667, 0.45833333, 0.57627119],\n",
       "       [0.44295302, 0.36111111, 0.41666667, 0.59322034],\n",
       "       [0.44966443, 0.41666667, 0.29166667, 0.52542373],\n",
       "       [0.45637584, 0.52777778, 0.08333333, 0.59322034],\n",
       "       [0.46308725, 0.36111111, 0.20833333, 0.49152542],\n",
       "       [0.46979866, 0.44444444, 0.5       , 0.6440678 ],\n",
       "       [0.47651007, 0.5       , 0.33333333, 0.50847458],\n",
       "       [0.48322148, 0.55555556, 0.20833333, 0.66101695],\n",
       "       [0.48993289, 0.5       , 0.33333333, 0.62711864],\n",
       "       [0.4966443 , 0.58333333, 0.375     , 0.55932203],\n",
       "       [0.5033557 , 0.63888889, 0.41666667, 0.57627119],\n",
       "       [0.51006711, 0.69444444, 0.33333333, 0.6440678 ],\n",
       "       [0.51677852, 0.66666667, 0.41666667, 0.6779661 ],\n",
       "       [0.52348993, 0.47222222, 0.375     , 0.59322034],\n",
       "       [0.53020134, 0.38888889, 0.25      , 0.42372881],\n",
       "       [0.53691275, 0.33333333, 0.16666667, 0.47457627],\n",
       "       [0.54362416, 0.33333333, 0.16666667, 0.45762712],\n",
       "       [0.55033557, 0.41666667, 0.29166667, 0.49152542],\n",
       "       [0.55704698, 0.47222222, 0.29166667, 0.69491525],\n",
       "       [0.56375839, 0.30555556, 0.41666667, 0.59322034],\n",
       "       [0.5704698 , 0.47222222, 0.58333333, 0.59322034],\n",
       "       [0.57718121, 0.66666667, 0.45833333, 0.62711864],\n",
       "       [0.58389262, 0.55555556, 0.125     , 0.57627119],\n",
       "       [0.59060403, 0.36111111, 0.41666667, 0.52542373],\n",
       "       [0.59731544, 0.33333333, 0.20833333, 0.50847458],\n",
       "       [0.60402685, 0.33333333, 0.25      , 0.57627119],\n",
       "       [0.61073826, 0.5       , 0.41666667, 0.61016949],\n",
       "       [0.61744966, 0.41666667, 0.25      , 0.50847458],\n",
       "       [0.62416107, 0.19444444, 0.125     , 0.38983051],\n",
       "       [0.63087248, 0.36111111, 0.29166667, 0.54237288],\n",
       "       [0.63758389, 0.38888889, 0.41666667, 0.54237288],\n",
       "       [0.6442953 , 0.38888889, 0.375     , 0.54237288],\n",
       "       [0.65100671, 0.52777778, 0.375     , 0.55932203],\n",
       "       [0.65771812, 0.22222222, 0.20833333, 0.33898305],\n",
       "       [0.66442953, 0.38888889, 0.33333333, 0.52542373],\n",
       "       [0.67114094, 0.55555556, 0.54166667, 0.84745763],\n",
       "       [0.67785235, 0.41666667, 0.29166667, 0.69491525],\n",
       "       [0.68456376, 0.77777778, 0.41666667, 0.83050847],\n",
       "       [0.69127517, 0.55555556, 0.375     , 0.77966102],\n",
       "       [0.69798658, 0.61111111, 0.41666667, 0.81355932],\n",
       "       [0.70469799, 0.91666667, 0.41666667, 0.94915254],\n",
       "       [0.7114094 , 0.16666667, 0.20833333, 0.59322034],\n",
       "       [0.71812081, 0.83333333, 0.375     , 0.89830508],\n",
       "       [0.72483221, 0.66666667, 0.20833333, 0.81355932],\n",
       "       [0.73154362, 0.80555556, 0.66666667, 0.86440678],\n",
       "       [0.73825503, 0.61111111, 0.5       , 0.69491525],\n",
       "       [0.74496644, 0.58333333, 0.29166667, 0.72881356],\n",
       "       [0.75167785, 0.69444444, 0.41666667, 0.76271186],\n",
       "       [0.75838926, 0.38888889, 0.20833333, 0.6779661 ],\n",
       "       [0.76510067, 0.41666667, 0.33333333, 0.69491525],\n",
       "       [0.77181208, 0.58333333, 0.5       , 0.72881356],\n",
       "       [0.77852349, 0.61111111, 0.41666667, 0.76271186],\n",
       "       [0.7852349 , 0.94444444, 0.75      , 0.96610169],\n",
       "       [0.79194631, 0.94444444, 0.25      , 1.        ],\n",
       "       [0.79865772, 0.47222222, 0.08333333, 0.6779661 ],\n",
       "       [0.80536913, 0.72222222, 0.5       , 0.79661017],\n",
       "       [0.81208054, 0.36111111, 0.33333333, 0.66101695],\n",
       "       [0.81879195, 0.94444444, 0.33333333, 0.96610169],\n",
       "       [0.82550336, 0.55555556, 0.29166667, 0.66101695],\n",
       "       [0.83221477, 0.66666667, 0.54166667, 0.79661017],\n",
       "       [0.83892617, 0.80555556, 0.5       , 0.84745763],\n",
       "       [0.84563758, 0.52777778, 0.33333333, 0.6440678 ],\n",
       "       [0.85234899, 0.5       , 0.41666667, 0.66101695],\n",
       "       [0.8590604 , 0.58333333, 0.33333333, 0.77966102],\n",
       "       [0.86577181, 0.80555556, 0.41666667, 0.81355932],\n",
       "       [0.87248322, 0.86111111, 0.33333333, 0.86440678],\n",
       "       [0.87919463, 1.        , 0.75      , 0.91525424],\n",
       "       [0.88590604, 0.58333333, 0.33333333, 0.77966102],\n",
       "       [0.89261745, 0.55555556, 0.33333333, 0.69491525],\n",
       "       [0.89932886, 0.5       , 0.25      , 0.77966102],\n",
       "       [0.90604027, 0.94444444, 0.41666667, 0.86440678],\n",
       "       [0.91275168, 0.55555556, 0.58333333, 0.77966102],\n",
       "       [0.91946309, 0.58333333, 0.45833333, 0.76271186],\n",
       "       [0.9261745 , 0.47222222, 0.41666667, 0.6440678 ],\n",
       "       [0.93288591, 0.72222222, 0.45833333, 0.74576271],\n",
       "       [0.93959732, 0.66666667, 0.45833333, 0.77966102],\n",
       "       [0.94630872, 0.72222222, 0.45833333, 0.69491525],\n",
       "       [0.95302013, 0.41666667, 0.29166667, 0.69491525],\n",
       "       [0.95973154, 0.69444444, 0.5       , 0.83050847],\n",
       "       [0.96644295, 0.66666667, 0.54166667, 0.79661017],\n",
       "       [0.97315436, 0.66666667, 0.41666667, 0.71186441],\n",
       "       [0.97986577, 0.55555556, 0.20833333, 0.6779661 ],\n",
       "       [0.98657718, 0.61111111, 0.41666667, 0.71186441],\n",
       "       [0.99328859, 0.52777778, 0.58333333, 0.74576271],\n",
       "       [1.        , 0.44444444, 0.41666667, 0.69491525]])"
      ]
     },
     "execution_count": 8,
     "metadata": {},
     "output_type": "execute_result"
    }
   ],
   "source": [
    "x"
   ]
  },
  {
   "cell_type": "markdown",
   "id": "1958f564",
   "metadata": {},
   "source": [
    "# Thank you."
   ]
  }
 ],
 "metadata": {
  "kernelspec": {
   "display_name": "Python 3",
   "language": "python",
   "name": "python3"
  },
  "language_info": {
   "codemirror_mode": {
    "name": "ipython",
    "version": 3
   },
   "file_extension": ".py",
   "mimetype": "text/x-python",
   "name": "python",
   "nbconvert_exporter": "python",
   "pygments_lexer": "ipython3",
   "version": "3.8.8"
  }
 },
 "nbformat": 4,
 "nbformat_minor": 5
}
